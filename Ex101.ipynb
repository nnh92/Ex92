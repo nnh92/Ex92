{
  "nbformat": 4,
  "nbformat_minor": 0,
  "metadata": {
    "colab": {
      "provenance": [],
      "authorship_tag": "ABX9TyP4kHPLAjQj2KuSFS459FKQ",
      "include_colab_link": true
    },
    "kernelspec": {
      "name": "python3",
      "display_name": "Python 3"
    },
    "language_info": {
      "name": "python"
    }
  },
  "cells": [
    {
      "cell_type": "markdown",
      "metadata": {
        "id": "view-in-github",
        "colab_type": "text"
      },
      "source": [
        "<a href=\"https://colab.research.google.com/github/nnh92/Ex92-100/blob/main/Ex101.ipynb\" target=\"_parent\"><img src=\"https://colab.research.google.com/assets/colab-badge.svg\" alt=\"Open In Colab\"/></a>"
      ]
    },
    {
      "cell_type": "code",
      "execution_count": 4,
      "metadata": {
        "colab": {
          "base_uri": "https://localhost:8080/"
        },
        "id": "_fMpq6xLJpEP",
        "outputId": "d9f93b0c-e0ca-4da9-e6bb-82b534070ef4"
      },
      "outputs": [
        {
          "output_type": "stream",
          "name": "stdout",
          "text": [
            "1 2 3 4 5 6\n",
            "123456\n"
          ]
        }
      ],
      "source": [
        "def A(t):\n",
        "  lst = ''\n",
        "  for i in t:\n",
        "    lst +=i\n",
        "  return int(''.join(lst))\n",
        "  \n",
        "t = tuple(map(str, input('').split()))\n",
        "\n",
        "print(A(t))"
      ]
    }
  ]
}