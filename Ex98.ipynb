{
  "nbformat": 4,
  "nbformat_minor": 0,
  "metadata": {
    "colab": {
      "provenance": [],
      "authorship_tag": "ABX9TyO0d2oJAmIy382PGxXvEt+J",
      "include_colab_link": true
    },
    "kernelspec": {
      "name": "python3",
      "display_name": "Python 3"
    },
    "language_info": {
      "name": "python"
    }
  },
  "cells": [
    {
      "cell_type": "markdown",
      "metadata": {
        "id": "view-in-github",
        "colab_type": "text"
      },
      "source": [
        "<a href=\"https://colab.research.google.com/github/nnh92/Ex92-100/blob/main/Ex98.ipynb\" target=\"_parent\"><img src=\"https://colab.research.google.com/assets/colab-badge.svg\" alt=\"Open In Colab\"/></a>"
      ]
    },
    {
      "cell_type": "code",
      "execution_count": null,
      "metadata": {
        "id": "2zmjIkcVA8LC"
      },
      "outputs": [],
      "source": [
        "def TUP(n):\n",
        "  tup = (n, tuple(i for i in range(n)))\n",
        "  return print(tup)\n",
        "\n",
        "n = int(input('Nhap n: '))\n",
        "\n",
        "TUP(n)"
      ]
    }
  ]
}