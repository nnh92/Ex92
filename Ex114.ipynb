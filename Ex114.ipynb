{
  "nbformat": 4,
  "nbformat_minor": 0,
  "metadata": {
    "colab": {
      "provenance": [],
      "authorship_tag": "ABX9TyMrutTg9JxgdKUinTqzmof3",
      "include_colab_link": true
    },
    "kernelspec": {
      "name": "python3",
      "display_name": "Python 3"
    },
    "language_info": {
      "name": "python"
    }
  },
  "cells": [
    {
      "cell_type": "markdown",
      "metadata": {
        "id": "view-in-github",
        "colab_type": "text"
      },
      "source": [
        "<a href=\"https://colab.research.google.com/github/nnh92/Ex92-100/blob/main/Ex114.ipynb\" target=\"_parent\"><img src=\"https://colab.research.google.com/assets/colab-badge.svg\" alt=\"Open In Colab\"/></a>"
      ]
    },
    {
      "cell_type": "code",
      "execution_count": null,
      "metadata": {
        "id": "4neMNkunwmcn"
      },
      "outputs": [],
      "source": [
        "def nhap_danh_sach(M, N):\n",
        "   #Khoi tao danh sach rong\n",
        "   danhSach2Chieu = []\n",
        "   for i in range(M):\n",
        "       #Nhap du lieu tung hang tu ban phim va cat thanh list cac phan tu\n",
        "       hang = input().split()\n",
        "       #Kiem tra so phan tu co dung kich thuoc\n",
        "       if len(hang) != N:\n",
        "           print(\"Danh sach 2 chieu khong dung kich thuoc\")\n",
        "           return None\n",
        "       #Them hang vao danh sach 2 chieu\n",
        "       danhSach2Chieu.append(hang)\n",
        "   return danhSach2Chieu\n",
        "\n",
        "\n",
        "\n",
        "\n",
        "\n",
        "\n",
        "\n",
        "   "
      ]
    }
  ]
}