{
  "nbformat": 4,
  "nbformat_minor": 0,
  "metadata": {
    "colab": {
      "provenance": [],
      "authorship_tag": "ABX9TyMQSD1p3NTtRQhmDYdGnsLg",
      "include_colab_link": true
    },
    "kernelspec": {
      "name": "python3",
      "display_name": "Python 3"
    },
    "language_info": {
      "name": "python"
    }
  },
  "cells": [
    {
      "cell_type": "markdown",
      "metadata": {
        "id": "view-in-github",
        "colab_type": "text"
      },
      "source": [
        "<a href=\"https://colab.research.google.com/github/nnh92/Ex92-100/blob/main/Ex96.ipynb\" target=\"_parent\"><img src=\"https://colab.research.google.com/assets/colab-badge.svg\" alt=\"Open In Colab\"/></a>"
      ]
    },
    {
      "cell_type": "code",
      "execution_count": 1,
      "metadata": {
        "id": "A6wMcHRe58YV",
        "outputId": "5c53363d-ab6c-4d41-cd97-5861a82ca596",
        "colab": {
          "base_uri": "https://localhost:8080/"
        }
      },
      "outputs": [
        {
          "output_type": "stream",
          "name": "stdout",
          "text": [
            "Nhap so tu nhien n: 6\n",
            "(0, 1, 2, 3, 4, 5)\n"
          ]
        }
      ],
      "source": [
        "def Cre_Tuple(n):\n",
        "  tup = tuple(i for i in range(n))\n",
        "  return print(tup)\n",
        "\n",
        "n = int(input('Nhap so tu nhien n: '))\n",
        "\n",
        "Cre_Tuple(n)"
      ]
    }
  ]
}