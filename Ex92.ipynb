{
  "nbformat": 4,
  "nbformat_minor": 0,
  "metadata": {
    "colab": {
      "provenance": [],
      "authorship_tag": "ABX9TyOi+V4j3NzGgc9x9vHYkxEL",
      "include_colab_link": true
    },
    "kernelspec": {
      "name": "python3",
      "display_name": "Python 3"
    },
    "language_info": {
      "name": "python"
    }
  },
  "cells": [
    {
      "cell_type": "markdown",
      "metadata": {
        "id": "view-in-github",
        "colab_type": "text"
      },
      "source": [
        "<a href=\"https://colab.research.google.com/github/nnh92/Ex92/blob/main/Ex92.ipynb\" target=\"_parent\"><img src=\"https://colab.research.google.com/assets/colab-badge.svg\" alt=\"Open In Colab\"/></a>"
      ]
    },
    {
      "cell_type": "code",
      "execution_count": 19,
      "metadata": {
        "id": "NoK6Jb9o_q8o",
        "colab": {
          "base_uri": "https://localhost:8080/"
        },
        "outputId": "893ebe17-9f2e-46ac-ae9a-cbd1ed17111f"
      },
      "outputs": [
        {
          "output_type": "stream",
          "name": "stdout",
          "text": [
            "Nhap so hang cua ma tran: 3\n",
            "Nhap so cot cua ma tran: 4\n",
            "Hang thu 1: \n",
            "1 2 3 4\n",
            "Hang thu 2: \n",
            "5 6 7 8\n",
            "Hang thu 3: \n",
            "9 10 11 12\n",
            "[[1, 2, 3, 4], [5, 6, 7, 8], [9, 10, 11, 12]]\n"
          ]
        }
      ],
      "source": [
        "from IPython.utils.text import list_strings\n",
        "def Inp_Matrix(n1, n2):\n",
        "  s = []\n",
        "  for i in range(n1):\n",
        "    print('Hang thu {}: '.format(i+1))\n",
        "    lst = list(map(int, input('').split()))\n",
        "    s.append(lst)\n",
        "  return s\n",
        "\n",
        "n1 = int(input('Nhap so hang cua ma tran: '))\n",
        "\n",
        "n2 = int(input('Nhap so cot cua ma tran: '))\n",
        "\n",
        "print(Inp_Matrix(n1, n2))\n",
        "\n",
        "\n",
        "\n",
        "\n",
        "\n",
        "\n",
        "\n",
        "\n",
        "\n",
        "\n",
        "\n",
        "\n"
      ]
    }
  ]
}