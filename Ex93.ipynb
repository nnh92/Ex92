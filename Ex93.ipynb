{
  "nbformat": 4,
  "nbformat_minor": 0,
  "metadata": {
    "colab": {
      "provenance": [],
      "authorship_tag": "ABX9TyO7v3kQ/jvxn+nZVDi2S47f",
      "include_colab_link": true
    },
    "kernelspec": {
      "name": "python3",
      "display_name": "Python 3"
    },
    "language_info": {
      "name": "python"
    }
  },
  "cells": [
    {
      "cell_type": "markdown",
      "metadata": {
        "id": "view-in-github",
        "colab_type": "text"
      },
      "source": [
        "<a href=\"https://colab.research.google.com/github/nnh92/Ex92-100/blob/main/Ex93.ipynb\" target=\"_parent\"><img src=\"https://colab.research.google.com/assets/colab-badge.svg\" alt=\"Open In Colab\"/></a>"
      ]
    },
    {
      "cell_type": "code",
      "execution_count": 7,
      "metadata": {
        "id": "scAPJPj-b37-",
        "colab": {
          "base_uri": "https://localhost:8080/"
        },
        "outputId": "4fdddfff-4811-4d13-ae8c-99df6bc92147"
      },
      "outputs": [
        {
          "output_type": "stream",
          "name": "stdout",
          "text": [
            "Nhap so hang: 2\n",
            "Nhap so cot: 3\n",
            "Nhap hang 1, cot 1: \n",
            "1\n",
            "Nhap hang 1, cot 2: \n",
            "2\n",
            "Nhap hang 1, cot 3: \n",
            "3\n",
            "Nhap hang 2, cot 1: \n",
            "4\n",
            "Nhap hang 2, cot 2: \n",
            "5\n",
            "Nhap hang 2, cot 3: \n",
            "6\n",
            "Matrix input:\n",
            "[[1. 2. 3.]\n",
            " [4. 5. 6.]]\n",
            "Matrix output: \n",
            "[[1. 4.]\n",
            " [2. 5.]\n",
            " [3. 6.]]\n"
          ]
        }
      ],
      "source": [
        "import numpy as np\n",
        "\n",
        "def Inp_Matrix(n1, n2):\n",
        "  A = np.zeros((n1,n2))\n",
        "  for i in range(n1):\n",
        "    for j in range(n2):\n",
        "      print('Nhap hang {}, cot {}: '.format(i+1,j+1))\n",
        "      A[i][j] = int(input(''))\n",
        "\n",
        "  return A\n",
        "\n",
        "def Trans_Matrix(A):\n",
        "  AT = np.zeros((A.shape[1],A.shape[0]))\n",
        "  for i in range(A.shape[1]):\n",
        "    for j in range(A.shape[0]):\n",
        "      AT[i][j] = A[j][i]\n",
        "\n",
        "  return AT\n",
        "\n",
        "n1 = int(input('Nhap so hang: '))\n",
        "n2 = int(input('Nhap so cot: '))\n",
        "\n",
        "A = Inp_Matrix(n1, n2)\n",
        "\n",
        "print('Matrix input:')\n",
        "print(A)\n",
        "print('Matrix output: ')\n",
        "print(Trans_Matrix(A))\n"
      ]
    }
  ]
}