{
  "nbformat": 4,
  "nbformat_minor": 0,
  "metadata": {
    "colab": {
      "provenance": [],
      "authorship_tag": "ABX9TyOTSbSgkKI3jBq/7po2zeWv",
      "include_colab_link": true
    },
    "kernelspec": {
      "name": "python3",
      "display_name": "Python 3"
    },
    "language_info": {
      "name": "python"
    }
  },
  "cells": [
    {
      "cell_type": "markdown",
      "metadata": {
        "id": "view-in-github",
        "colab_type": "text"
      },
      "source": [
        "<a href=\"https://colab.research.google.com/github/nnh92/Ex92-100/blob/main/Ex94.ipynb\" target=\"_parent\"><img src=\"https://colab.research.google.com/assets/colab-badge.svg\" alt=\"Open In Colab\"/></a>"
      ]
    },
    {
      "cell_type": "code",
      "execution_count": 19,
      "metadata": {
        "id": "scAPJPj-b37-",
        "colab": {
          "base_uri": "https://localhost:8080/"
        },
        "outputId": "ad583e49-d133-4830-879b-0f7812c3416b"
      },
      "outputs": [
        {
          "output_type": "stream",
          "name": "stdout",
          "text": [
            "Nhap so hang: 2\n",
            "Nhap so cot: 3\n",
            "Nhap phan tu hang 1: \n",
            "1 2 3\n",
            "Nhap phan tu hang 2: \n",
            "1 3 4\n",
            "Matrix input:\n",
            "[[1. 2. 3.]\n",
            " [1. 3. 4.]]\n",
            "Matrix output: \n",
            "[1.0, 2.0, 3.0, 4.0]\n"
          ]
        }
      ],
      "source": [
        "import numpy as np\n",
        "\n",
        "def Inp_Matrix(n1, n2):\n",
        "  A = np.zeros((n1,n2))\n",
        "  for i in range(n1):\n",
        "    print('Nhap phan tu hang {}: '.format(i+1))\n",
        "    lst = list(map(float, input('').split()))\n",
        "    if len(lst) != n2:\n",
        "      print('Nhap lai day so')\n",
        "    else:\n",
        "      for j in range(n2):\n",
        "        A[i][j] = lst[j]\n",
        "\n",
        "  return A\n",
        "\n",
        "def Count_Matrix(A):\n",
        "  values, count = np.unique(A, return_counts = True)\n",
        "  Alst = values.tolist()\n",
        "  Acount = count.tolist()\n",
        "  lst = []\n",
        "  for i in range(len(Alst)):\n",
        "    for j in values:\n",
        "      if count[i] >= A.shape[1]:\n",
        "        lst.append(j)\n",
        "\n",
        "  return Alst\n",
        "\n",
        "n1 = int(input('Nhap so hang: '))\n",
        "n2 = int(input('Nhap so cot: '))\n",
        "\n",
        "A = Inp_Matrix(n1, n2)\n",
        "\n",
        "print('Matrix input:')\n",
        "print(A)\n",
        "print('Matrix output: ')\n",
        "print(Count_Matrix(A))\n"
      ]
    },
    {
      "cell_type": "code",
      "source": [],
      "metadata": {
        "id": "Nlt0KdifmLM1"
      },
      "execution_count": null,
      "outputs": []
    }
  ]
}