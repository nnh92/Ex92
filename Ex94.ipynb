{
  "nbformat": 4,
  "nbformat_minor": 0,
  "metadata": {
    "colab": {
      "provenance": [],
      "authorship_tag": "ABX9TyN7cC82Gtot/KPZBdBwmdxK",
      "include_colab_link": true
    },
    "kernelspec": {
      "name": "python3",
      "display_name": "Python 3"
    },
    "language_info": {
      "name": "python"
    }
  },
  "cells": [
    {
      "cell_type": "markdown",
      "metadata": {
        "id": "view-in-github",
        "colab_type": "text"
      },
      "source": [
        "<a href=\"https://colab.research.google.com/github/nnh92/Ex92-100/blob/main/Ex94.ipynb\" target=\"_parent\"><img src=\"https://colab.research.google.com/assets/colab-badge.svg\" alt=\"Open In Colab\"/></a>"
      ]
    },
    {
      "cell_type": "code",
      "execution_count": null,
      "metadata": {
        "id": "scAPJPj-b37-",
        "colab": {
          "base_uri": "https://localhost:8080/"
        },
        "outputId": "c7c6c569-9eae-49ce-8a84-3ee7b8eb43bc"
      },
      "outputs": [
        {
          "output_type": "stream",
          "name": "stdout",
          "text": [
            "Nhap so hang: 3\n",
            "Nhap so cot: 4\n",
            "Nhap phan tu hang 1: \n",
            "1 2 3 4\n",
            "Nhap phan tu hang 2: \n",
            "1 3 1 4\n",
            "Nhap phan tu hang 3: \n",
            "1 1 3 7\n",
            "Matrix input:\n",
            "[[1. 2. 3. 4.]\n",
            " [1. 3. 1. 4.]\n",
            " [1. 1. 3. 7.]]\n",
            "Matrix output: \n",
            "[1.0, 3.0]\n"
          ]
        }
      ],
      "source": [
        "import numpy as np\n",
        "\n",
        "def Inp_Matrix(n1, n2):\n",
        "  A = np.zeros((n1,n2))\n",
        "  for i in range(n1):\n",
        "    print('Nhap phan tu hang {}: '.format(i+1))\n",
        "    lst = list(map(float, input('').split()))\n",
        "    if len(lst) != n2:\n",
        "      print('Nhap lai day so')\n",
        "    else:\n",
        "      for j in range(n2):\n",
        "        A[i][j] = lst[j]\n",
        "  return A\n",
        "\n",
        "def Count_Matrix(A):\n",
        "  values, count = np.unique(A, return_counts = True)\n",
        "  Alst = values.tolist()\n",
        "  Acount = count.tolist()\n",
        "  lst = []\n",
        "  for i in range(len(Alst)):\n",
        "    if int(Acount[i]) >= A.shape[0]:\n",
        "      lst.append(values[i])\n",
        "  return lst\n",
        "\n",
        "def List_Matrix(lst, A):\n",
        "  lst = \n",
        "  return lst\n",
        "\n",
        "n1 = int(input('Nhap so hang: '))\n",
        "n2 = int(input('Nhap so cot: '))\n",
        "\n",
        "A = Inp_Matrix(n1, n2)\n",
        "\n",
        "print('Matrix input:')\n",
        "print(A)\n",
        "\n",
        "lst = Count_Matrix(A)\n",
        "\n",
        "print('Matrix output: ')\n",
        "print(List_Matrix(lst, A))\n"
      ]
    }
  ]
}