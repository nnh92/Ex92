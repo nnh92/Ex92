{
  "nbformat": 4,
  "nbformat_minor": 0,
  "metadata": {
    "colab": {
      "provenance": [],
      "authorship_tag": "ABX9TyNPQMKP2EdLSSZ/Oqs4XAIS",
      "include_colab_link": true
    },
    "kernelspec": {
      "name": "python3",
      "display_name": "Python 3"
    },
    "language_info": {
      "name": "python"
    }
  },
  "cells": [
    {
      "cell_type": "markdown",
      "metadata": {
        "id": "view-in-github",
        "colab_type": "text"
      },
      "source": [
        "<a href=\"https://colab.research.google.com/github/nnh92/Ex92-100/blob/main/Ex94.ipynb\" target=\"_parent\"><img src=\"https://colab.research.google.com/assets/colab-badge.svg\" alt=\"Open In Colab\"/></a>"
      ]
    },
    {
      "cell_type": "code",
      "execution_count": 3,
      "metadata": {
        "id": "scAPJPj-b37-",
        "colab": {
          "base_uri": "https://localhost:8080/"
        },
        "outputId": "ba920ddc-3aeb-4982-ef29-c67513f58866"
      },
      "outputs": [
        {
          "output_type": "stream",
          "name": "stdout",
          "text": [
            "Nhap so hang: 2\n",
            "Nhap so cot: 3\n",
            "Nhap phan tu hang 1: \n",
            "1 2 3\n",
            "Nhap phan tu hang 2: \n",
            "1 1 2\n",
            "Matrix input:\n",
            "[[1. 2. 3.]\n",
            " [1. 1. 2.]]\n",
            "Matrix output: \n",
            "([], array([1., 1., 2.]))\n"
          ]
        }
      ],
      "source": [
        "import numpy as np\n",
        "\n",
        "def Inp_Matrix(n1, n2):\n",
        "  A = np.zeros((n1,n2))\n",
        "  for i in range(n1):\n",
        "    print('Nhap phan tu hang {}: '.format(i+1))\n",
        "    lst = list(map(float, input('').split()))\n",
        "    if len(lst) != n2:\n",
        "      print('Nhap lai day so')\n",
        "    else:\n",
        "      for j in range(n2):\n",
        "        A[i][j] = lst[j]\n",
        "  return A\n",
        "\n",
        "def Count_Matrix(A):\n",
        "  values, count = np.unique(A, return_counts = True)\n",
        "  Alst = values.tolist()\n",
        "  Acount = count.tolist()\n",
        "  lst = []\n",
        "  for i in range(len(Alst)):\n",
        "    if int(Acount[i]) >= A.shape[0]:\n",
        "      lst.append(values[i])\n",
        "  return lst\n",
        "\n",
        "def List_Matrix(lst, A):\n",
        "  out_lst = []\n",
        "#  for i in lst:\n",
        "#    for j in range(A.shape[0]):\n",
        "#      for k in A[j,:]:\n",
        "#        if i == k:\n",
        "#          lst.append(i)\n",
        "  return out_lst\n",
        "\n",
        "n1 = int(input('Nhap so hang: '))\n",
        "n2 = int(input('Nhap so cot: '))\n",
        "\n",
        "A = Inp_Matrix(n1, n2)\n",
        "\n",
        "print('Matrix input:')\n",
        "print(A)\n",
        "\n",
        "lst = Count_Matrix(A)\n",
        "\n",
        "print('Matrix output: ')\n",
        "print(List_Matrix(lst, A))\n"
      ]
    }
  ]
}