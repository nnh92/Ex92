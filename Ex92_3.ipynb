{
  "nbformat": 4,
  "nbformat_minor": 0,
  "metadata": {
    "colab": {
      "provenance": [],
      "authorship_tag": "ABX9TyMLLxqDBPWTM5kmcG7M9lRr",
      "include_colab_link": true
    },
    "kernelspec": {
      "name": "python3",
      "display_name": "Python 3"
    },
    "language_info": {
      "name": "python"
    }
  },
  "cells": [
    {
      "cell_type": "markdown",
      "metadata": {
        "id": "view-in-github",
        "colab_type": "text"
      },
      "source": [
        "<a href=\"https://colab.research.google.com/github/nnh92/Ex92/blob/main/Ex92_3.ipynb\" target=\"_parent\"><img src=\"https://colab.research.google.com/assets/colab-badge.svg\" alt=\"Open In Colab\"/></a>"
      ]
    },
    {
      "cell_type": "code",
      "execution_count": 5,
      "metadata": {
        "id": "scAPJPj-b37-",
        "colab": {
          "base_uri": "https://localhost:8080/"
        },
        "outputId": "cd76a758-ccb1-428e-ab7a-2c36c3bc77c1"
      },
      "outputs": [
        {
          "output_type": "stream",
          "name": "stdout",
          "text": [
            "Nhap so hang: 2\n",
            "Nhap so cot: 2\n",
            "Nhap hang 1, cot 1: \n",
            "1\n",
            "Nhap hang 1, cot 2: \n",
            "2\n",
            "Nhap hang 2, cot 1: \n",
            "3\n",
            "Nhap hang 2, cot 2: \n",
            "4\n",
            "[[1. 2.]\n",
            " [3. 4.]]\n"
          ]
        }
      ],
      "source": [
        "import numpy as np\n",
        "\n",
        "def Inp_Matrix(n1, n2):\n",
        "  A = np.zeros((n1,n2))\n",
        "  for i in range(n1):\n",
        "    for j in range(n2):\n",
        "      print('Nhap hang {}, cot {}: '.format(i+1,j+1))\n",
        "      A[i][j] = int(input(''))\n",
        "\n",
        "  return A\n",
        "\n",
        "def Len_Matrix(A):\n",
        "  return A\n",
        "\n",
        "n1 = int(input('Nhap so hang: '))\n",
        "n2 = int(input('Nhap so cot: '))\n",
        "\n",
        "A = Inp_Matrix(n1, n2)\n",
        "\n",
        "print(A)\n"
      ]
    }
  ]
}