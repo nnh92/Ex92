{
  "nbformat": 4,
  "nbformat_minor": 0,
  "metadata": {
    "colab": {
      "provenance": [],
      "authorship_tag": "ABX9TyNa/ySnKdWXN4QPTuYD3erb",
      "include_colab_link": true
    },
    "kernelspec": {
      "name": "python3",
      "display_name": "Python 3"
    },
    "language_info": {
      "name": "python"
    }
  },
  "cells": [
    {
      "cell_type": "markdown",
      "metadata": {
        "id": "view-in-github",
        "colab_type": "text"
      },
      "source": [
        "<a href=\"https://colab.research.google.com/github/nnh92/Ex92/blob/main/Ex92_3.ipynb\" target=\"_parent\"><img src=\"https://colab.research.google.com/assets/colab-badge.svg\" alt=\"Open In Colab\"/></a>"
      ]
    },
    {
      "cell_type": "code",
      "execution_count": 22,
      "metadata": {
        "id": "scAPJPj-b37-",
        "colab": {
          "base_uri": "https://localhost:8080/"
        },
        "outputId": "c45321ce-d7a4-4868-c3d2-be2bedc5aecb"
      },
      "outputs": [
        {
          "output_type": "stream",
          "name": "stdout",
          "text": [
            "Nhap so hang: 2\n",
            "Nhap so cot: 2\n",
            "Nhap hang 1, cot 1: \n",
            "12\n",
            "Nhap hang 1, cot 2: \n",
            "3\n",
            "Nhap hang 2, cot 1: \n",
            "45\n",
            "Nhap hang 2, cot 2: \n",
            "567\n",
            "[[ 12.   3.]\n",
            " [ 45. 567.]]\n",
            "[12.0, 567.0]\n"
          ]
        }
      ],
      "source": [
        "from IPython.core.alias import List\n",
        "import numpy as np\n",
        "\n",
        "def Inp_Matrix(n1, n2):\n",
        "  A = np.zeros((n1,n2))\n",
        "  for i in range(n1):\n",
        "    for j in range(n2):\n",
        "      print('Nhap hang {}, cot {}: '.format(i+1,j+1))\n",
        "      A[i][j] = int(input(''))\n",
        "\n",
        "  return A\n",
        "\n",
        "def Len_Matrix(A):\n",
        "  s0 = A.shape[0]\n",
        "  lst = []\n",
        "  for i in range(s0):\n",
        "    lst.append(max(A[i]))\n",
        "\n",
        "  return lst\n",
        "\n",
        "n1 = int(input('Nhap so hang: '))\n",
        "n2 = int(input('Nhap so cot: '))\n",
        "\n",
        "A = Inp_Matrix(n1, n2)\n",
        "\n",
        "print(A)\n",
        "\n",
        "print(Len_Matrix(A))\n"
      ]
    }
  ]
}